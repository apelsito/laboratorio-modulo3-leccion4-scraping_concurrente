{
 "cells": [
  {
   "cell_type": "code",
   "execution_count": 2,
   "metadata": {},
   "outputs": [],
   "source": [
    "# Importamos las librerías que necesitamos\n",
    "\n",
    "# Librerías de extracción de datos\n",
    "# -----------------------------------------------------------------------\n",
    "import os\n",
    "import dotenv\n",
    "dotenv.load_dotenv()\n",
    "\n",
    "# pip install geopy\n",
    "from geopy.geocoders import Nominatim\n",
    "# Importaciones:\n",
    "# Beautifulsoup\n",
    "from bs4 import BeautifulSoup\n",
    "from tqdm import tqdm\n",
    "# Requests\n",
    "import requests\n",
    "import asyncio\n",
    "import pandas as pd\n",
    "import numpy as np\n",
    "\n",
    "from time import sleep\n",
    "import random\n",
    "pd.set_option(\"display.max_columns\", None) #Ver todo\n",
    "import src.SupportLab4 \n",
    "# Importar librerías para automatización de navegadores web con Selenium\n",
    "# -----------------------------------------------------------------------\n",
    "from selenium import webdriver  # Selenium es una herramienta para automatizar la interacción con navegadores web.\n",
    "from webdriver_manager.chrome import ChromeDriverManager  # ChromeDriverManager gestiona la instalación del controlador de Chrome.\n",
    "from selenium.webdriver.common.keys import Keys  # Keys es útil para simular eventos de teclado en Selenium.\n",
    "from selenium.webdriver.support.ui import Select  # Select se utiliza para interactuar con elementos <select> en páginas web.\n",
    "from selenium.webdriver.support.ui import WebDriverWait\n",
    "from selenium.webdriver.support import expected_conditions as EC\n",
    "from selenium.common.exceptions import NoSuchElementException # Excepciones comunes de selenium que nos podemos encontrar \n"
   ]
  },
  {
   "cell_type": "code",
   "execution_count": null,
   "metadata": {},
   "outputs": [],
   "source": [
    "# Ejecutar el script de manera asíncrona\n",
    "if __name__ == \"__main__\":\n",
    "    df = asyncio.run(main())\n",
    "    df.to_csv(\"datos/holabb.csv\")\n",
    "    \n",
    "    \n"
   ]
  },
  {
   "cell_type": "markdown",
   "metadata": {},
   "source": [
    "# Primero de todo usaremos geopy para formatear el nombre de los municipios\n"
   ]
  },
  {
   "cell_type": "code",
   "execution_count": 3,
   "metadata": {},
   "outputs": [
    {
     "name": "stderr",
     "output_type": "stream",
     "text": [
      "100%|██████████| 179/179 [01:30<00:00,  1.97it/s]\n"
     ]
    }
   ],
   "source": [
    "lista_municipios = ['acebeda-la', 'ajalvir', 'alameda-del-valle', 'alamo-el', 'alcala-de-henares', 'alcobendas', 'alcorcon', 'aldea-del-fresno', 'algete', 'alpedrete', 'ambite', 'anchuelo', 'aranjuez', 'arganda-del-rey', 'arroyomolinos', 'atazar-el', 'batres', 'becerril-de-la-sierra', 'belmonte-de-tajo', 'berrueco-el', 'berzosa-del-lozoya', 'boadilla-del-monte', 'boalo-el', 'braojos', 'brea-de-tajo', 'brunete', 'buitrago-del-lozoya', 'bustarviejo', 'cabanillas-de-la-sierra', 'cabrera-la', 'cadalso-de-los-vidrios', 'camarma-de-esteruelas', 'campo-real', 'canencia', 'carabana', 'casarrubuelos', 'cenicientos', 'cercedilla', 'cervera-de-buitrago', 'chapineria', 'chinchon', 'ciempozuelos', 'cobena', 'collado-mediano', 'collado-villalba', 'colmenar-del-arroyo', 'colmenar-de-oreja', 'colmenarejo', 'colmenar-viejo', 'corpa', 'coslada', 'cubas-de-la-sagra', 'daganzo-de-arriba', 'escorial-el', 'estremera', 'fresnedillas-de-la-oliva', 'fresno-de-torote', 'fuenlabrada', 'fuente-el-saz-de-jarama', 'fuentiduena-de-tajo', 'galapagar', 'garganta-de-los-montes', 'gargantilla-del-lozoya-y-pinilla-de-buitrago', 'gascones', 'getafe', 'grinon', 'guadalix-de-la-sierra', 'guadarrama', 'hiruela-la', 'horcajo-de-la-sierra-aoslos', 'horcajuelo-de-la-sierra', 'hoyo-de-manzanares', 'humanes-de-madrid', 'leganes', 'loeches', 'lozoya', 'lozoyuela-navas-sieteiglesias', 'madarcos', 'madrid', 'majadahonda', 'manzanares-el-real', 'meco', 'mejorada-del-campo', 'miraflores-de-la-sierra', 'molar-el', 'molinos-los', 'montejo-de-la-sierra', 'moraleja-de-enmedio', 'moralzarzal', 'morata-de-tajuna', 'mostoles', 'navacerrada', 'navalafuente', 'navalagamella', 'navalcarnero', 'navarredonda-y-san-mames', 'navas-del-rey', 'nuevo-baztan', 'olmeda-de-las-fuentes', 'orusco-de-tajuna', 'paracuellos-de-jarama', 'parla', 'patones', 'pedrezuela', 'pelayos-de-la-presa', 'perales-de-tajuna', 'pezuela-de-las-torres', 'pinilla-del-valle', 'pinto', 'pinuecar-gandullas', 'pozuelo-de-alarcon', 'pozuelo-del-rey', 'pradena-del-rincon', 'puebla-de-la-sierra', 'puentes-viejas-manjiron', 'quijorna', 'rascafria', 'reduena', 'ribatejada', 'rivas-vaciamadrid', 'robledillo-de-la-jara', 'robledo-de-chavela', 'robregordo', 'rozas-de-madrid-las', 'rozas-de-puerto-real', 'san-agustin-del-guadalix', 'san-fernando-de-henares', 'san-lorenzo-de-el-escorial', 'san-martin-de-la-vega', 'san-martin-de-valdeiglesias', 'san-sebastian-de-los-reyes', 'santa-maria-de-la-alameda', 'santorcaz', 'santos-de-la-humosa-los', 'serna-del-monte-la', 'serranillos-del-valle', 'sevilla-la-nueva', 'somosierra', 'soto-del-real', 'talamanca-de-jarama', 'tielmes', 'titulcia', 'torrejon-de-ardoz', 'torrejon-de-la-calzada', 'torrejon-de-velasco', 'torrelaguna', 'torrelodones', 'torremocha-de-jarama', 'torres-de-la-alameda', 'tres-cantos', 'valdaracete', 'valdeavero', 'valdelaguna', 'valdemanco', 'valdemaqueda', 'valdemorillo', 'valdemoro', 'valdeolmos-alalpardo', 'valdepielagos', 'valdetorres-de-jarama', 'valdilecha', 'valverde-de-alcala', 'velilla-de-san-antonio', 'vellon-el', 'venturada', 'villaconejos', 'villa-del-prado', 'villalbilla', 'villamanrique-de-tajo', 'villamanta', 'villamantilla', 'villanueva-de-la-canada', 'villanueva-del-pardillo', 'villanueva-de-perales', 'villar-del-olmo', 'villarejo-de-salvanes', 'villaviciosa-de-odon', 'villavieja-del-lozoya', 'zarzalejo']\n",
    "municipios = []\n",
    "geolocator = Nominatim(user_agent=\"lab-geolocation-GRO\") #User agent debe ser lo que quieras\n",
    "for i in tqdm(range(0,len(lista_municipios))):\n",
    "    location = geolocator.geocode(lista_municipios[i])\n",
    "    name = location.address.split(\",\")[0]\n",
    "    municipios.append(name)"
   ]
  },
  {
   "cell_type": "markdown",
   "metadata": {},
   "source": [
    "Hemos tardado 100.28039574623108 segundos\n",
    "Hemos tardado 91.72400283813477 segundos"
   ]
  },
  {
   "cell_type": "code",
   "execution_count": 7,
   "metadata": {},
   "outputs": [
    {
     "name": "stderr",
     "output_type": "stream",
     "text": [
      "  0%|          | 0/1 [00:00<?, ?it/s]"
     ]
    },
    {
     "name": "stderr",
     "output_type": "stream",
     "text": [
      "100%|██████████| 1/1 [00:00<00:00,  4.41it/s]\n"
     ]
    }
   ],
   "source": [
    "lista_municipios = ['acebeda-la']\n",
    "municipios = []\n",
    "geolocator = Nominatim(user_agent=\"lab-geolocation-GRO\") #User agent debe ser lo que quieras\n",
    "for i in tqdm(range(0,len(lista_municipios))):\n",
    "    location = geolocator.geocode(lista_municipios[i])\n",
    "    name = location.address.split(\",\")[0]\n",
    "    municipios.append(name)"
   ]
  },
  {
   "cell_type": "markdown",
   "metadata": {},
   "source": []
  },
  {
   "cell_type": "code",
   "execution_count": 4,
   "metadata": {},
   "outputs": [],
   "source": [
    "municipios[-1] = municipios[-1].strip(\" (estación)\")"
   ]
  },
  {
   "cell_type": "code",
   "execution_count": 7,
   "metadata": {},
   "outputs": [
    {
     "data": {
      "text/plain": [
       "179"
      ]
     },
     "execution_count": 7,
     "metadata": {},
     "output_type": "execute_result"
    }
   ],
   "source": [
    "municipios = ['La Acebeda', 'Ajalvir', 'Alameda del Valle', 'El Álamo', 'Alcalá de Henares', 'Alcobendas', 'Alcorcón', 'Aldea del Fresno', 'Algete', 'Alpedrete', 'Ambite', 'Anchuelo', 'Aranjuez', 'Arganda del Rey', 'Arroyomolinos', 'El Atazar', 'Batres', 'Becerril de la Sierra', 'Belmonte de Tajo', 'El Berrueco', 'Berzosa del Lozoya', 'Boadilla del Monte', 'El Boalo', 'Braojos', 'Brea de Tajo', 'Brunete', 'Buitrago del Lozoya', 'Bustarviejo', 'Cabanillas de la Sierra', 'Cabrera Lane', 'Cadalso de los Vidrios', 'Camarma de Esteruelas', 'Campo Real', 'Canencia', 'Carabaña', 'Casarrubuelos', 'Cenicientos', 'Cercedilla', 'Cervera de Buitrago', 'Chapinería', 'Chinchón', 'Ciempozuelos', 'Cobeña', 'Collado Mediano', 'Collado Villalba', 'Colmenar del Arroyo', 'Colmenar de Oreja', 'Colmenarejo', 'Colmenar Viejo', 'Corpa', 'Coslada', 'Cubas de la Sagra', 'Daganzo de Arriba', 'Real Monasterio de San Lorenzo de El Escorial', 'Estremera', 'Fresnedillas de la Oliva', 'Fresno de Torote', 'Fuenlabrada', 'Fuente el Saz de Jarama', 'Fuentidueña de Tajo', 'Galapagar', 'Garganta de los Montes', 'Gargantilla del Lozoya y Pinilla de Buitrago', 'Gascones', 'Getafe', 'Griñón', 'Guadalix de la Sierra', 'Guadarrama', 'La Hiruela', 'Horcajo de la Sierra-Aoslos', 'Horcajuelo de la Sierra', 'Hoyo de Manzanares', 'Humanes de Madrid', 'Leganes', 'Loeches', 'Lozoya', 'Lozoyuela-Navas-Sieteiglesias', 'Madarcos', 'Madrid', 'Majadahonda', 'Manzanares el Real', 'Meco', 'Mejorada del Campo', 'Miraflores de la Sierra', 'El Molar', 'Molinos Los', 'Montejo de la Sierra', 'Moraleja de Enmedio', 'Moralzarzal', 'Morata de Tajuña', 'Móstoles', 'Navacerrada', 'Navalafuente', 'Navalagamella', 'Navalcarnero', 'Navarredonda y San Mamés', 'Navas del Rey', 'Nuevo Baztán', 'Olmeda de las Fuentes', 'Orusco de Tajuña', 'Paracuellos de Jarama', 'Parla', 'Patones', 'Pedrezuela', 'Pelayos de la Presa', 'Perales de Tajuña', 'Pezuela de las Torres', 'Pinilla del Valle', 'Pinto', 'Piñuécar-Gandullas', 'Pozuelo de Alarcón', 'Pozuelo del Rey', 'Prádena del Rincón', 'Puebla de la Sierra', 'Manjirón', 'Quijorna', 'Rascafría', 'Redueña', 'Ribatejada', 'Rivas-Vaciamadrid', 'Robledillo de la Jara', 'Robledo de Chavela', 'Robregordo', 'Las Rozas de Madrid', 'Rozas de Puerto Real', 'San Agustín del Guadalix', 'San Fernando de Henares', 'San Lorenzo de El Escorial', 'San Martín de la Vega', 'San Martín de Valdeiglesias', 'San Sebastián de los Reyes', 'Santa María de la Alameda', 'Santorcaz', 'Los Santos de la Humosa', 'La Serna del Monte', 'Serranillos del Valle', 'Sevilla la Nueva', 'Somosierra', 'Soto del Real', 'Talamanca de Jarama', 'Tielmes', 'Titulcia', 'Torrejón de Ardoz', 'Torrejón de la Calzada', 'Torrejón de Velasco', 'Torrelaguna', 'Torrelodones', 'Torremocha de Jarama', 'Torres de la Alameda', 'Tres Cantos', 'Valdaracete', 'Valdeavero', 'Valdelaguna', 'Valdemanco', 'Valdemaqueda', 'Valdemorillo', 'Valdemoro', 'Valdeolmos-Alalpardo', 'Valdepiélagos', 'Valdetorres de Jarama', 'Valdilecha', 'Valverde de Alcalá', 'Velilla de San Antonio', 'El Vellón', 'Venturada', 'Villaconejos', 'Villa del Prado', 'Villalbilla', 'Villamanrique de Tajo', 'Villamanta', 'Villamantilla', 'Villanueva de la Cañada', 'Villanueva del Pardillo', 'Villanueva de Perales', 'Villar del Olmo', 'Villarejo de Salvanés', 'Villaviciosa de Odón', 'Villavieja del Lozoya', 'Zarzalejo']\n",
    "len(municipios)"
   ]
  },
  {
   "cell_type": "code",
   "execution_count": 5,
   "metadata": {},
   "outputs": [
    {
     "data": {
      "text/plain": [
       "['La Acebeda',\n",
       " 'Ajalvir',\n",
       " 'Alameda del Valle',\n",
       " 'El Álamo',\n",
       " 'Alcalá de Henares',\n",
       " 'Alcobendas',\n",
       " 'Alcorcón',\n",
       " 'Aldea del Fresno',\n",
       " 'Algete',\n",
       " 'Alpedrete',\n",
       " 'Ambite',\n",
       " 'Anchuelo',\n",
       " 'Aranjuez',\n",
       " 'Arganda del Rey',\n",
       " 'Arroyomolinos',\n",
       " 'El Atazar',\n",
       " 'Batres',\n",
       " 'Becerril de la Sierra',\n",
       " 'Belmonte de Tajo',\n",
       " 'El Berrueco',\n",
       " 'Berzosa del Lozoya',\n",
       " 'Boadilla del Monte',\n",
       " 'El Boalo',\n",
       " 'Braojos',\n",
       " 'Brea de Tajo',\n",
       " 'Brunete',\n",
       " 'Buitrago del Lozoya',\n",
       " 'Bustarviejo',\n",
       " 'Cabanillas de la Sierra',\n",
       " 'Cabrera Lane',\n",
       " 'Cadalso de los Vidrios',\n",
       " 'Camarma de Esteruelas',\n",
       " 'Campo Real',\n",
       " 'Canencia',\n",
       " 'Carabaña',\n",
       " 'Casarrubuelos',\n",
       " 'Cenicientos',\n",
       " 'Cercedilla',\n",
       " 'Cervera de Buitrago',\n",
       " 'Chapinería',\n",
       " 'Chinchón',\n",
       " 'Ciempozuelos',\n",
       " 'Cobeña',\n",
       " 'Collado Mediano',\n",
       " 'Collado Villalba',\n",
       " 'Colmenar del Arroyo',\n",
       " 'Colmenar de Oreja',\n",
       " 'Colmenarejo',\n",
       " 'Colmenar Viejo',\n",
       " 'Corpa',\n",
       " 'Coslada',\n",
       " 'Cubas de la Sagra',\n",
       " 'Daganzo de Arriba',\n",
       " 'Real Monasterio de San Lorenzo de El Escorial',\n",
       " 'Estremera',\n",
       " 'Fresnedillas de la Oliva',\n",
       " 'Fresno de Torote',\n",
       " 'Fuenlabrada',\n",
       " 'Fuente el Saz de Jarama',\n",
       " 'Fuentidueña de Tajo',\n",
       " 'Galapagar',\n",
       " 'Garganta de los Montes',\n",
       " 'Gargantilla del Lozoya y Pinilla de Buitrago',\n",
       " 'Gascones',\n",
       " 'Getafe',\n",
       " 'Griñón',\n",
       " 'Guadalix de la Sierra',\n",
       " 'Guadarrama',\n",
       " 'La Hiruela',\n",
       " 'Horcajo de la Sierra-Aoslos',\n",
       " 'Horcajuelo de la Sierra',\n",
       " 'Hoyo de Manzanares',\n",
       " 'Humanes de Madrid',\n",
       " 'Leganes',\n",
       " 'Loeches',\n",
       " 'Lozoya',\n",
       " 'Lozoyuela-Navas-Sieteiglesias',\n",
       " 'Madarcos',\n",
       " 'Madrid',\n",
       " 'Majadahonda',\n",
       " 'Manzanares el Real',\n",
       " 'Meco',\n",
       " 'Mejorada del Campo',\n",
       " 'Miraflores de la Sierra',\n",
       " 'El Molar',\n",
       " 'Molinos Los',\n",
       " 'Montejo de la Sierra',\n",
       " 'Moraleja de Enmedio',\n",
       " 'Moralzarzal',\n",
       " 'Morata de Tajuña',\n",
       " 'Móstoles',\n",
       " 'Navacerrada',\n",
       " 'Navalafuente',\n",
       " 'Navalagamella',\n",
       " 'Navalcarnero',\n",
       " 'Navarredonda y San Mamés',\n",
       " 'Navas del Rey',\n",
       " 'Nuevo Baztán',\n",
       " 'Olmeda de las Fuentes',\n",
       " 'Orusco de Tajuña',\n",
       " 'Paracuellos de Jarama',\n",
       " 'Parla',\n",
       " 'Patones',\n",
       " 'Pedrezuela',\n",
       " 'Pelayos de la Presa',\n",
       " 'Perales de Tajuña',\n",
       " 'Pezuela de las Torres',\n",
       " 'Pinilla del Valle',\n",
       " 'Pinto',\n",
       " 'Piñuécar-Gandullas',\n",
       " 'Pozuelo de Alarcón',\n",
       " 'Pozuelo del Rey',\n",
       " 'Prádena del Rincón',\n",
       " 'Puebla de la Sierra',\n",
       " 'Manjirón',\n",
       " 'Quijorna',\n",
       " 'Rascafría',\n",
       " 'Redueña',\n",
       " 'Ribatejada',\n",
       " 'Rivas-Vaciamadrid',\n",
       " 'Robledillo de la Jara',\n",
       " 'Robledo de Chavela',\n",
       " 'Robregordo',\n",
       " 'Las Rozas de Madrid',\n",
       " 'Rozas de Puerto Real',\n",
       " 'San Agustín del Guadalix',\n",
       " 'San Fernando de Henares',\n",
       " 'San Lorenzo de El Escorial',\n",
       " 'San Martín de la Vega',\n",
       " 'San Martín de Valdeiglesias',\n",
       " 'San Sebastián de los Reyes',\n",
       " 'Santa María de la Alameda',\n",
       " 'Santorcaz',\n",
       " 'Los Santos de la Humosa',\n",
       " 'La Serna del Monte',\n",
       " 'Serranillos del Valle',\n",
       " 'Sevilla la Nueva',\n",
       " 'Somosierra',\n",
       " 'Soto del Real',\n",
       " 'Talamanca de Jarama',\n",
       " 'Tielmes',\n",
       " 'Titulcia',\n",
       " 'Torrejón de Ardoz',\n",
       " 'Torrejón de la Calzada',\n",
       " 'Torrejón de Velasco',\n",
       " 'Torrelaguna',\n",
       " 'Torrelodones',\n",
       " 'Torremocha de Jarama',\n",
       " 'Torres de la Alameda',\n",
       " 'Tres Cantos',\n",
       " 'Valdaracete',\n",
       " 'Valdeavero',\n",
       " 'Valdelaguna',\n",
       " 'Valdemanco',\n",
       " 'Valdemaqueda',\n",
       " 'Valdemorillo',\n",
       " 'Valdemoro',\n",
       " 'Valdeolmos-Alalpardo',\n",
       " 'Valdepiélagos',\n",
       " 'Valdetorres de Jarama',\n",
       " 'Valdilecha',\n",
       " 'Valverde de Alcalá',\n",
       " 'Velilla de San Antonio',\n",
       " 'El Vellón',\n",
       " 'Venturada',\n",
       " 'Villaconejos',\n",
       " 'Villa del Prado',\n",
       " 'Villalbilla',\n",
       " 'Villamanrique de Tajo',\n",
       " 'Villamanta',\n",
       " 'Villamantilla',\n",
       " 'Villanueva de la Cañada',\n",
       " 'Villanueva del Pardillo',\n",
       " 'Villanueva de Perales',\n",
       " 'Villar del Olmo',\n",
       " 'Villarejo de Salvanés',\n",
       " 'Villaviciosa de Odón',\n",
       " 'Villavieja del Lozoya',\n",
       " 'Zarzalejo']"
      ]
     },
     "execution_count": 5,
     "metadata": {},
     "output_type": "execute_result"
    }
   ],
   "source": [
    "municipios"
   ]
  },
  {
   "cell_type": "code",
   "execution_count": 62,
   "metadata": {},
   "outputs": [],
   "source": [
    "municipios_seleccionados = random.sample(municipios,5)"
   ]
  },
  {
   "cell_type": "code",
   "execution_count": null,
   "metadata": {},
   "outputs": [],
   "source": [
    "estaciones_meteorologicas = []\n",
    "for i in range(0,len(municipios_seleccionados)):\n",
    "    municipio = municipios[i]\n",
    "    driver = webdriver.Chrome() #Para Abrir chrome solo ejecutar once\n",
    "    url_wunder = f\"https://www.wunderground.com/weather/es/{municipio}\"\n",
    "    driver.get(url_wunder)\n",
    "    #Maximizar ventana\n",
    "    driver.maximize_window() \n",
    "    print(\"intentamos seleccionar Cookies\")\n",
    "    select_cookies = WebDriverWait(driver,40).until(EC.presence_of_element_located(('xpath','//*[@id=\"sp_message_iframe_1165301\"]')))\n",
    "    driver.switch_to.frame(select_cookies)\n",
    "    try:\n",
    "        aceptar_cookies = driver.find_element(\"css selector\", \"#notice > div.message-component.message-row.cta-buttons-container > div.message-component.message-column.cta-button-column.reject-column > button\")\n",
    "        aceptar_cookies.click()\n",
    "        print(\"Encontrado\")\n",
    "    except:\n",
    "        print(\"AY MI CUQUI, no la encuentro\")\n",
    "        driver.quit()\n",
    "        driver = webdriver.Chrome() #Para Abrir chrome solo ejecutar once\n",
    "        driver.get(url_wunder)\n",
    "            #Maximizar ventana\n",
    "        driver.maximize_window() \n",
    "        print(\"intentamos seleccionar Cookies\")\n",
    "        select_cookies = WebDriverWait(driver,40).until(EC.presence_of_element_located(('xpath','//*[@id=\"sp_message_iframe_1165301\"]')))\n",
    "        driver.switch_to.frame(select_cookies)\n",
    "        try:\n",
    "            aceptar_cookies = driver.find_element(\"css selector\", \"#notice > div.message-component.message-row.cta-buttons-container > div.message-component.message-column.cta-button-column.reject-column > button\")\n",
    "            aceptar_cookies.click()\n",
    "            print(\"Encontrado\")\n",
    "            driver.switch_to.default_content()\n",
    "            sleep(5)\n",
    "            driver.find_element(\"css selector\",\"#inner-content > div.region-content-top > lib-city-header > div:nth-child(1) > div > div > a.station-name\").click()\n",
    "            sleep(6)\n",
    "            nombre_estacion = driver.find_element(\"css selector\", f\"#inner-content > div.region-content-top > app-dashboard-header > div.dashboard__header.small-12.ng-star-inserted > div > div.heading > h1\").text.split(\" - \")[1]\n",
    "            estaciones_meteorologicas.append(nombre_estacion)\n",
    "            driver.quit()\n",
    "\n",
    "            df = pd.DataFrame({\n",
    "                \"Municipio\": municipios_seleccionados,\n",
    "                \"Estación Meteorológica\": estaciones_meteorologicas,\n",
    "            })\n",
    "            driver.quit()\n",
    "        except:\n",
    "            print(\"AY MI CUQUI, no la encuentro\")\n",
    "            driver.quit()\n",
    "\n",
    "\n",
    "    driver.switch_to.default_content()\n",
    "    sleep(5)\n",
    "    driver.find_element(\"css selector\",\"#inner-content > div.region-content-top > lib-city-header > div:nth-child(1) > div > div > a.station-name\").click()\n",
    "    sleep(6)\n",
    "    nombre_estacion = driver.find_element(\"css selector\", f\"#inner-content > div.region-content-top > app-dashboard-header > div.dashboard__header.small-12.ng-star-inserted > div > div.heading > h1\").text.split(\" - \")[1]\n",
    "    estaciones_meteorologicas.append(nombre_estacion)\n",
    "    driver.quit()\n",
    "\n",
    "df = pd.DataFrame({\n",
    "    \"Municipio\": municipios_seleccionados,\n",
    "    \"Estación Meteorológica\": estaciones_meteorologicas,\n",
    "})\n",
    "\n",
    "df"
   ]
  },
  {
   "cell_type": "markdown",
   "metadata": {},
   "source": [
    "# Listas del dataframe individuales"
   ]
  },
  {
   "cell_type": "code",
   "execution_count": null,
   "metadata": {},
   "outputs": [],
   "source": [
    "municipios_seleccionados\n",
    "estaciones_meteorologicas"
   ]
  },
  {
   "cell_type": "code",
   "execution_count": 67,
   "metadata": {},
   "outputs": [],
   "source": [
    "df.to_csv(\"datos/municipios_to_work.csv\")\n"
   ]
  },
  {
   "cell_type": "markdown",
   "metadata": {},
   "source": [
    "# Toca sacar tabla de los datos mensuales"
   ]
  },
  {
   "cell_type": "code",
   "execution_count": null,
   "metadata": {},
   "outputs": [],
   "source": [
    "df = pd.read_csv(\"datos/municipios_to_work.csv\",index_col=\"Unnamed: 0\")\n",
    "df"
   ]
  },
  {
   "cell_type": "code",
   "execution_count": 27,
   "metadata": {},
   "outputs": [],
   "source": [
    "municipios_seleccionados = df[\"Municipio\"].to_list()\n",
    "estaciones_meteorologicas = df[\"Estación Meteorológica\"].to_list()\n"
   ]
  },
  {
   "cell_type": "code",
   "execution_count": 31,
   "metadata": {},
   "outputs": [],
   "source": [
    "fechas = [\"2024-1-1/2024-1-1\",\"2024-2-1/2024-2-1\",\"2024-3-1/2024-3-1\",\"2024-4-1/2024-4-1\",\"2024-5-1/2024-5-1\",\"2024-6-1/2024-6-1\",\"2024-7-1/2024-7-1\",\"2024-8-1/2024-8-1\",\"2024-9-1/2024-9-1\",\"2024-10-1/2024-10-1\"]"
   ]
  },
  {
   "cell_type": "code",
   "execution_count": null,
   "metadata": {},
   "outputs": [],
   "source": [
    "df = pd.DataFrame()\n",
    "\n",
    "for e in range(0,len(estaciones_meteorologicas)):\n",
    "    estacion_meteorologica = estaciones_meteorologicas[e]\n",
    "    df_temp = pd.DataFrame()\n",
    "    for d in range(0,len(fechas)):\n",
    "        driver = webdriver.Chrome() #Para Abrir chrome solo ejecutar once\n",
    "        url_wunder = f\"https://www.wunderground.com/dashboard/pws/{estacion_meteorologica}/table/{fechas[d]}/monthly\"\n",
    "        driver.get(url_wunder)\n",
    "        #Maximizar ventana\n",
    "        driver.maximize_window() \n",
    "        print(\"intentamos seleccionar Cookies\")\n",
    "        select_cookies = WebDriverWait(driver,40).until(EC.presence_of_element_located(('xpath','//*[@id=\"sp_message_iframe_1165301\"]')))\n",
    "        driver.switch_to.frame(select_cookies)\n",
    "        try:\n",
    "            aceptar_cookies = driver.find_element(\"css selector\", \"#notice > div.message-component.message-row.cta-buttons-container > div.message-component.message-column.cta-button-column.reject-column > button\")\n",
    "            aceptar_cookies.click()\n",
    "            print(\"Encontrado\")\n",
    "        except:\n",
    "            print(\"AY MI CUQUI, no la encuentro\")\n",
    "\n",
    "        driver.switch_to.default_content()\n",
    "        sleep(5)\n",
    "\n",
    "        tabla = driver.find_element(\"css selector\",\"#main-page-content > div > div > div > lib-history > div.history-tabs > lib-history-table > div > div > div\")\n",
    "        tabla_text = tabla.text\n",
    "        tabla_split = tabla_text.split(\"\\n\")\n",
    "        tabla_df = pd.DataFrame(tabla_split)\n",
    "        df_temp = pd.concat([df_temp,tabla_df],axis=0)\n",
    "        driver.quit()\n",
    "        sleep(6)\n",
    "    df_temp[\"Municipio\"] = municipios_seleccionados[e]\n",
    "    df_temp = df_temp.reindex(columns=[\"Municipio\",0])\n",
    "    df = pd.concat([df,df_temp],axis=0)\n",
    "    \n"
   ]
  },
  {
   "cell_type": "code",
   "execution_count": null,
   "metadata": {},
   "outputs": [],
   "source": [
    "backup = df"
   ]
  },
  {
   "cell_type": "code",
   "execution_count": 55,
   "metadata": {},
   "outputs": [],
   "source": [
    "df = backup"
   ]
  },
  {
   "cell_type": "code",
   "execution_count": 68,
   "metadata": {},
   "outputs": [],
   "source": [
    "df_split = df[0].str.split(expand=True)\n",
    "df_split\n",
    "df_munis = df\n",
    "df_munis = df.drop(columns=[0])\n",
    "df_concat = pd.concat([df_munis,df_split],axis=1)\n",
    "df_concat"
   ]
  },
  {
   "cell_type": "code",
   "execution_count": 83,
   "metadata": {},
   "outputs": [],
   "source": [
    "df = df_concat"
   ]
  },
  {
   "cell_type": "code",
   "execution_count": null,
   "metadata": {},
   "outputs": [],
   "source": [
    "df = df.reset_index(drop=True)\n"
   ]
  },
  {
   "cell_type": "code",
   "execution_count": null,
   "metadata": {},
   "outputs": [],
   "source": [
    "indices_fuera = [0, 32, 62, 94, 125, 157, 188, 220, 252, 283, 300, 332, 362, 394, 425, 457, 488, 520, \n",
    "552, 583, 600, 632, 662, 694, 725, 757, 788, 820, 852, 883, 900, 932, 962, 994, \n",
    "1025, 1057, 1088, 1120, 1152, 1183, 1200, 1232, 1262, 1294, 1325, 1357, 1388, 1420, \n",
    "1452, 1483]\n",
    "\n",
    "df_selected = df.loc[indices_fuera]\n",
    "df_selected = df\n",
    "df_selected2 = df_selected.drop(index=indices_fuera)\n",
    "df = df_selected2.reset_index(drop=True)\n"
   ]
  },
  {
   "cell_type": "code",
   "execution_count": null,
   "metadata": {},
   "outputs": [],
   "source": [
    "df"
   ]
  },
  {
   "cell_type": "code",
   "execution_count": 129,
   "metadata": {},
   "outputs": [],
   "source": [
    "df.to_csv(\"datos/tabla_a_limpiar.csv\")"
   ]
  },
  {
   "cell_type": "code",
   "execution_count": 39,
   "metadata": {},
   "outputs": [],
   "source": [
    "df = pd.read_csv(\"datos/tabla_a_limpiar.csv\",index_col=\"Unnamed: 0\")\n"
   ]
  },
  {
   "cell_type": "code",
   "execution_count": 40,
   "metadata": {},
   "outputs": [],
   "source": [
    "df = df.drop(columns=[\"2\",\"4\",\"6\",\"8\",\"10\",\"12\",\"14\",\"16\",\"18\",\"20\",\"22\",\"24\",\"26\",\"28\",\"30\"])\n",
    "columnas = [\"Date\",\"Temperature High (Fº)\", \"Temperature Avg (Fº)\",\"Temperature Low (Fº)\",\"Dew Point High (Fº)\",\n",
    "            \"Dew Point Avg (Fº)\",\"Dew Point Low (Fº)\",\"Humidity High (%)\",\"Humidity Avg (%)\",\"Humidity Low (%)\",\n",
    "            \"Speed High (mph)\",\"Speed Avg (mph)\",\"Speed Low (mph)\",\"Pressure High (in)\",\"Pressure Low (in)\",\"Precipitation Accumulation Sum (in)\"]\n",
    "df.rename(columns={\"0\":columnas[0],\"1\":columnas[1],\"3\":columnas[2],\"5\":columnas[3],\n",
    "                   \"7\":columnas[4],\"9\":columnas[5],\"11\":columnas[6],\"13\":columnas[7],\n",
    "                   \"15\":columnas[8],\"17\":columnas[9],\"19\":columnas[10],\"21\":columnas[11],\n",
    "                   \"23\":columnas[12],\"25\":columnas[13],\"27\":columnas[14],\"29\":columnas[15]},inplace=True)\n",
    "df[\"Date\"] = pd.to_datetime(df[\"Date\"],format=\"mixed\")\n",
    "df[\"Humidity High (%)\"] = df[\"Humidity High (%)\"].astype(int)\n",
    "df[\"Humidity Avg (%)\"] = df[\"Humidity Avg (%)\"].astype(int)\n",
    "df[\"Humidity Low (%)\"] = df[\"Humidity Low (%)\"].astype(int)"
   ]
  },
  {
   "cell_type": "code",
   "execution_count": 42,
   "metadata": {},
   "outputs": [
    {
     "name": "stdout",
     "output_type": "stream",
     "text": [
      "<class 'pandas.core.frame.DataFrame'>\n",
      "Index: 1450 entries, 0 to 1449\n",
      "Data columns (total 17 columns):\n",
      " #   Column                               Non-Null Count  Dtype         \n",
      "---  ------                               --------------  -----         \n",
      " 0   Municipio                            1450 non-null   object        \n",
      " 1   Date                                 1450 non-null   datetime64[ns]\n",
      " 2   Temperature High (Fº)                1450 non-null   float64       \n",
      " 3   Temperature Avg (Fº)                 1450 non-null   float64       \n",
      " 4   Temperature Low (Fº)                 1450 non-null   float64       \n",
      " 5   Dew Point High (Fº)                  1450 non-null   float64       \n",
      " 6   Dew Point Avg (Fº)                   1450 non-null   float64       \n",
      " 7   Dew Point Low (Fº)                   1450 non-null   float64       \n",
      " 8   Humidity High (%)                    1450 non-null   int64         \n",
      " 9   Humidity Avg (%)                     1450 non-null   int64         \n",
      " 10  Humidity Low (%)                     1450 non-null   int64         \n",
      " 11  Speed High (mph)                     1450 non-null   float64       \n",
      " 12  Speed Avg (mph)                      1450 non-null   float64       \n",
      " 13  Speed Low (mph)                      1450 non-null   float64       \n",
      " 14  Pressure High (in)                   1450 non-null   float64       \n",
      " 15  Pressure Low (in)                    1450 non-null   float64       \n",
      " 16  Precipitation Accumulation Sum (in)  1450 non-null   float64       \n",
      "dtypes: datetime64[ns](1), float64(12), int64(3), object(1)\n",
      "memory usage: 203.9+ KB\n"
     ]
    }
   ],
   "source": [
    "df.info()"
   ]
  },
  {
   "cell_type": "code",
   "execution_count": 43,
   "metadata": {},
   "outputs": [
    {
     "data": {
      "text/html": [
       "<div>\n",
       "<style scoped>\n",
       "    .dataframe tbody tr th:only-of-type {\n",
       "        vertical-align: middle;\n",
       "    }\n",
       "\n",
       "    .dataframe tbody tr th {\n",
       "        vertical-align: top;\n",
       "    }\n",
       "\n",
       "    .dataframe thead th {\n",
       "        text-align: right;\n",
       "    }\n",
       "</style>\n",
       "<table border=\"1\" class=\"dataframe\">\n",
       "  <thead>\n",
       "    <tr style=\"text-align: right;\">\n",
       "      <th></th>\n",
       "      <th>Municipio</th>\n",
       "      <th>Date</th>\n",
       "      <th>Temperature High (Fº)</th>\n",
       "      <th>Temperature Avg (Fº)</th>\n",
       "      <th>Temperature Low (Fº)</th>\n",
       "      <th>Dew Point High (Fº)</th>\n",
       "      <th>Dew Point Avg (Fº)</th>\n",
       "      <th>Dew Point Low (Fº)</th>\n",
       "      <th>Humidity High (%)</th>\n",
       "      <th>Humidity Avg (%)</th>\n",
       "      <th>Humidity Low (%)</th>\n",
       "      <th>Speed High (mph)</th>\n",
       "      <th>Speed Avg (mph)</th>\n",
       "      <th>Speed Low (mph)</th>\n",
       "      <th>Pressure High (in)</th>\n",
       "      <th>Pressure Low (in)</th>\n",
       "      <th>Precipitation Accumulation Sum (in)</th>\n",
       "    </tr>\n",
       "  </thead>\n",
       "  <tbody>\n",
       "    <tr>\n",
       "      <th>0</th>\n",
       "      <td>Santorcaz</td>\n",
       "      <td>2024-01-01</td>\n",
       "      <td>48.9</td>\n",
       "      <td>39.6</td>\n",
       "      <td>34.2</td>\n",
       "      <td>38.1</td>\n",
       "      <td>31.6</td>\n",
       "      <td>19.9</td>\n",
       "      <td>97</td>\n",
       "      <td>75</td>\n",
       "      <td>33</td>\n",
       "      <td>8.5</td>\n",
       "      <td>0.9</td>\n",
       "      <td>0.0</td>\n",
       "      <td>30.04</td>\n",
       "      <td>29.92</td>\n",
       "      <td>0.00</td>\n",
       "    </tr>\n",
       "    <tr>\n",
       "      <th>1</th>\n",
       "      <td>Santorcaz</td>\n",
       "      <td>2024-01-02</td>\n",
       "      <td>41.0</td>\n",
       "      <td>35.3</td>\n",
       "      <td>32.0</td>\n",
       "      <td>40.6</td>\n",
       "      <td>34.7</td>\n",
       "      <td>30.7</td>\n",
       "      <td>99</td>\n",
       "      <td>98</td>\n",
       "      <td>93</td>\n",
       "      <td>4.9</td>\n",
       "      <td>0.4</td>\n",
       "      <td>0.0</td>\n",
       "      <td>30.04</td>\n",
       "      <td>29.94</td>\n",
       "      <td>0.06</td>\n",
       "    </tr>\n",
       "    <tr>\n",
       "      <th>2</th>\n",
       "      <td>Santorcaz</td>\n",
       "      <td>2024-01-03</td>\n",
       "      <td>52.0</td>\n",
       "      <td>45.4</td>\n",
       "      <td>40.6</td>\n",
       "      <td>49.6</td>\n",
       "      <td>44.0</td>\n",
       "      <td>38.3</td>\n",
       "      <td>99</td>\n",
       "      <td>95</td>\n",
       "      <td>82</td>\n",
       "      <td>9.6</td>\n",
       "      <td>0.7</td>\n",
       "      <td>0.0</td>\n",
       "      <td>29.99</td>\n",
       "      <td>29.91</td>\n",
       "      <td>0.24</td>\n",
       "    </tr>\n",
       "    <tr>\n",
       "      <th>3</th>\n",
       "      <td>Santorcaz</td>\n",
       "      <td>2024-01-04</td>\n",
       "      <td>45.7</td>\n",
       "      <td>40.6</td>\n",
       "      <td>34.2</td>\n",
       "      <td>43.2</td>\n",
       "      <td>39.2</td>\n",
       "      <td>33.6</td>\n",
       "      <td>99</td>\n",
       "      <td>95</td>\n",
       "      <td>82</td>\n",
       "      <td>6.0</td>\n",
       "      <td>0.3</td>\n",
       "      <td>0.0</td>\n",
       "      <td>29.98</td>\n",
       "      <td>29.68</td>\n",
       "      <td>0.05</td>\n",
       "    </tr>\n",
       "    <tr>\n",
       "      <th>4</th>\n",
       "      <td>Santorcaz</td>\n",
       "      <td>2024-01-05</td>\n",
       "      <td>41.5</td>\n",
       "      <td>36.5</td>\n",
       "      <td>34.2</td>\n",
       "      <td>38.5</td>\n",
       "      <td>33.5</td>\n",
       "      <td>31.3</td>\n",
       "      <td>98</td>\n",
       "      <td>89</td>\n",
       "      <td>76</td>\n",
       "      <td>14.3</td>\n",
       "      <td>2.7</td>\n",
       "      <td>0.0</td>\n",
       "      <td>29.79</td>\n",
       "      <td>29.61</td>\n",
       "      <td>0.29</td>\n",
       "    </tr>\n",
       "  </tbody>\n",
       "</table>\n",
       "</div>"
      ],
      "text/plain": [
       "   Municipio       Date  Temperature High (Fº)  Temperature Avg (Fº)  \\\n",
       "0  Santorcaz 2024-01-01                   48.9                  39.6   \n",
       "1  Santorcaz 2024-01-02                   41.0                  35.3   \n",
       "2  Santorcaz 2024-01-03                   52.0                  45.4   \n",
       "3  Santorcaz 2024-01-04                   45.7                  40.6   \n",
       "4  Santorcaz 2024-01-05                   41.5                  36.5   \n",
       "\n",
       "   Temperature Low (Fº)  Dew Point High (Fº)  Dew Point Avg (Fº)  \\\n",
       "0                  34.2                 38.1                31.6   \n",
       "1                  32.0                 40.6                34.7   \n",
       "2                  40.6                 49.6                44.0   \n",
       "3                  34.2                 43.2                39.2   \n",
       "4                  34.2                 38.5                33.5   \n",
       "\n",
       "   Dew Point Low (Fº)  Humidity High (%)  Humidity Avg (%)  Humidity Low (%)  \\\n",
       "0                19.9                 97                75                33   \n",
       "1                30.7                 99                98                93   \n",
       "2                38.3                 99                95                82   \n",
       "3                33.6                 99                95                82   \n",
       "4                31.3                 98                89                76   \n",
       "\n",
       "   Speed High (mph)  Speed Avg (mph)  Speed Low (mph)  Pressure High (in)  \\\n",
       "0               8.5              0.9              0.0               30.04   \n",
       "1               4.9              0.4              0.0               30.04   \n",
       "2               9.6              0.7              0.0               29.99   \n",
       "3               6.0              0.3              0.0               29.98   \n",
       "4              14.3              2.7              0.0               29.79   \n",
       "\n",
       "   Pressure Low (in)  Precipitation Accumulation Sum (in)  \n",
       "0              29.92                                 0.00  \n",
       "1              29.94                                 0.06  \n",
       "2              29.91                                 0.24  \n",
       "3              29.68                                 0.05  \n",
       "4              29.61                                 0.29  "
      ]
     },
     "execution_count": 43,
     "metadata": {},
     "output_type": "execute_result"
    }
   ],
   "source": [
    "df.head()"
   ]
  },
  {
   "cell_type": "code",
   "execution_count": 44,
   "metadata": {},
   "outputs": [],
   "source": [
    "df.to_csv(\"datos/tabla_hecha.csv\")"
   ]
  }
 ],
 "metadata": {
  "kernelspec": {
   "display_name": "Python 3",
   "language": "python",
   "name": "python3"
  },
  "language_info": {
   "codemirror_mode": {
    "name": "ipython",
    "version": 3
   },
   "file_extension": ".py",
   "mimetype": "text/x-python",
   "name": "python",
   "nbconvert_exporter": "python",
   "pygments_lexer": "ipython3",
   "version": "3.11.9"
  }
 },
 "nbformat": 4,
 "nbformat_minor": 2
}
